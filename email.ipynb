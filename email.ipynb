{
  "nbformat": 4,
  "nbformat_minor": 0,
  "metadata": {
    "colab": {
      "name": "Untitled0.ipynb",
      "provenance": [],
      "collapsed_sections": [],
      "authorship_tag": "ABX9TyNyho7zyQvshy0xrCyfj7Qz",
      "include_colab_link": true
    },
    "kernelspec": {
      "name": "python3",
      "display_name": "Python 3"
    }
  },
  "cells": [
    {
      "cell_type": "markdown",
      "metadata": {
        "id": "view-in-github",
        "colab_type": "text"
      },
      "source": [
        "<a href=\"https://colab.research.google.com/github/MatheusBacochina/CPLUSPLUS/blob/master/email.ipynb\" target=\"_parent\"><img src=\"https://colab.research.google.com/assets/colab-badge.svg\" alt=\"Open In Colab\"/></a>"
      ]
    },
    {
      "cell_type": "code",
      "metadata": {
        "id": "INQYG3q0Fde5"
      },
      "source": [
        "import pandas as pd\r\n",
        "\r\n",
        "\r\n",
        "\r\n",
        "#atribuindo o excel a variavel df\r\n",
        "df = pd.read_excel(r'/content/drive/MyDrive/Colab Notebooks/projetos/aula1/Vendas.xlsx')\r\n",
        "\r\n",
        "#calculando o faturamento e agrupando o id\r\n",
        "faturamento = df[['ID Loja', 'Valor Final']].groupby('ID Loja').sum()\r\n",
        "\r\n",
        "#deixando em forma descrecente\r\n",
        "faturamento = faturamento.sort_values(by= 'Valor Final', ascending=False)\r\n",
        "\r\n",
        "#Calculando quantidade\r\n",
        "quantidade = df[['ID Loja', 'Quantidade']].groupby('ID Loja').sum()\r\n",
        "quantidade = quantidade.sort_values(by ='ID Loja', ascending=False)\r\n",
        "#display(quantidade)\r\n",
        "\r\n",
        "#calculando media\r\n",
        "media = (faturamento['Valor Final'] / quantidade['Quantidade']).to_frame()\r\n",
        "media = media.rename(columns={0:'Media'})\r\n",
        "media = media.sort_values(by ='Media', ascending=False)\r\n",
        "\r\n",
        "import smtplib\r\n",
        "import email.message\r\n",
        "\r\n",
        "\r\n",
        "#enviar email\r\n",
        "def enviar_email(nome_da_loja, tabela):\r\n",
        "  server = smtplib.SMTP('smtp.gmail.com:587')  \r\n",
        "\r\n",
        "  email_content = f'''\r\n",
        "  <p>Prezados</p>\r\n",
        "  <p> Segue o Relatorio</p>\r\n",
        "  {tabela,to_html()}\r\n",
        " '''\r\n",
        "\r\n",
        "  msg = email.message.Message()\r\n",
        "  msg['Subject'] = f'Relatorio de Vendas: {nome_da_loja}'\r\n",
        "    \r\n",
        "  # Fazer antes (apenas na 1ª vez): Ativar Aplicativos não Seguros.\r\n",
        "  # Gerenciar Conta Google -> Segurança -> Aplicativos não Seguros -> Habilitar\r\n",
        "  # Caso mesmo assim dê o erro: smtplib.SMTPAuthenticationError: (534,\r\n",
        "  # Você faz o login no seu e-mail e depois entra em: https://accounts.google.com/DisplayUnlockCaptcha\r\n",
        "\r\n",
        "  msg['From'] = 'bacochinakawai2@gmail.com'\r\n",
        "  msg['To'] = 'bacochinayt@gmail.com'\r\n",
        "  password = \"teteu1601\"\r\n",
        "  msg.add_header('Content-Type', 'text/html')\r\n",
        "  msg.set_payload(email_content)\r\n",
        "    \r\n",
        "  s = smtplib.SMTP('smtp.gmail.com: 587')\r\n",
        "  s.starttls()\r\n",
        "  # Login Credentials for sending the mail\r\n",
        "  s.login(msg['From'], password)\r\n",
        "  s.sendmail(msg['From'], [msg['To']], msg.as_string().encode('utf-8'))\r\n",
        "  print('Email enviado')\r\n",
        "\r\n",
        "\r\n",
        "\r\n",
        "\r\n",
        "\r\n"
      ],
      "execution_count": 34,
      "outputs": []
    },
    {
      "cell_type": "code",
      "metadata": {
        "id": "FgSumXsAjGj1"
      },
      "source": [
        "lojas = df['ID Loja'].unique()\r\n",
        "for loja in lojas:\r\n",
        "  tabela_loja = df.loc[df['ID Loja'] == loja, ['ID Loja', 'Quantidade', 'Valor Final']]\r\n",
        "  resumo_loja = tabela_loja.groupby('ID Loja').sum()\r\n",
        "  resumo_loja['Media'] = resumo_loja['Valor Final'] / resumo_loja['Quantidade']\r\n",
        "  enviar_email(resumo_loja, loja)\r\n"
      ],
      "execution_count": null,
      "outputs": []
    }
  ]
}